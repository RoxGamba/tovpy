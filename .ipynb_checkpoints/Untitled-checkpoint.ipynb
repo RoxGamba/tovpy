{
 "cells": [
  {
   "cell_type": "code",
   "execution_count": 60,
   "id": "b0a0081a-3a7f-4cc2-9902-27736763b61f",
   "metadata": {},
   "outputs": [],
   "source": [
    "from eos import EOS\n",
    "from units import Units\n",
    "uts = Units()\n",
    "from scipy.constants import G, c\n",
    "from numpy import log, log10\n",
    "import numpy as np\n",
    "from numpy import pi\n",
    "from math import comb, prod\n",
    "from scipy.special import gamma, factorial2, hyp2f1\n",
    "from scipy.integrate import solve_ivp\n",
    "import matplotlib.pyplot as plt"
   ]
  },
  {
   "cell_type": "code",
   "execution_count": 16,
   "id": "ee82f654-7edc-4ed6-9b8b-64553dcaf6fb",
   "metadata": {},
   "outputs": [],
   "source": [
    "eos = EOS('tabular',name=\"from_file\",filename='MS1.rns')"
   ]
  },
  {
   "cell_type": "code",
   "execution_count": 24,
   "id": "6e84f99d-9796-49b0-a90c-54660e069200",
   "metadata": {},
   "outputs": [
    {
     "data": {
      "text/plain": [
       "(14.682347902127049, 7250.157395758547, 491488877504834.4)"
      ]
     },
     "execution_count": 24,
     "metadata": {},
     "output_type": "execute_result"
    }
   ],
   "source": [
    "pc = 5.47800e+34 * uts.cgs_to_geom('pressure')\n",
    "dh_fact=-1e-9\n",
    "ec = eos.EnergyDensity_Of_Pressure(pc)\n",
    "hc = eos.PseudoEnthalpy_Of_Pressure(pc)\n",
    "dedp_c = eos.EnergyDensityDeriv_Of_Pressure(pc)\n",
    "dhdp_c = 1.0 / (ec + pc)\n",
    "dedh_c = dedp_c / dhdp_c\n",
    "dh = dh_fact * hc\n",
    "h0 = hc + dh\n",
    "h1 = 0.0 - dh\n",
    "r0 = np.sqrt(-3.0 * dh / (2.0 * np.pi * (ec + 3.0 * pc))) * (1.0 + 0.25 * dh * (ec - 3.0 * pc  - 0.6 * dedh_c) / (ec + 3.0 * pc))\n",
    "m0 = (4.0 * np.pi * r0**3 * ec / 3.0) * (1.0 - 0.6 * dh * dedh_c / ec)\n",
    "r0, m0*uts.geom_to_cgs('mass'), ec*uts.geom_to_cgs('energy_density')\n",
    "\n",
    "\n"
   ]
  },
  {
   "cell_type": "code",
   "execution_count": 26,
   "id": "495f19bf-bb7c-4a04-9e7e-a406d8824554",
   "metadata": {},
   "outputs": [
    {
     "data": {
      "text/plain": [
       "7250.157302189414"
      ]
     },
     "execution_count": 26,
     "metadata": {},
     "output_type": "execute_result"
    }
   ],
   "source": [
    "ec * 4*pi/3 * r0**3 *uts.geom_to_cgs('mass')"
   ]
  },
  {
   "cell_type": "code",
   "execution_count": 28,
   "id": "fa535adf-cbf8-45c3-b0c7-89e13c1ef6eb",
   "metadata": {},
   "outputs": [
    {
     "data": {
      "text/plain": [
       "(20.0, 15.666666666666666, 0.012768073576494532, -0.013331675698412607)"
      ]
     },
     "execution_count": 28,
     "metadata": {},
     "output_type": "execute_result"
    }
   ],
   "source": [
    "def compute_legendre(c, l):\n",
    "    \"\"\"\n",
    "    Computes Legendre function values returning Pl2(x), Ql2(x) and their derivatives at x = 1/c -1\n",
    "    \"\"\"\n",
    "    x = 1/c -1\n",
    "    L = np.linspace(0,l-1,l)\n",
    "    nP = -prod((2*l-1)/2-L)/gamma(l) * 2**l * l*(l-1)\n",
    "    nQ = gamma(l)/factorial2(2*l+1)*(l+1)*(l+2)\n",
    "\n",
    "    Pl2 = 0\n",
    "    dPl2 = 0\n",
    "    for i in np.linspace(2,l,l-2+1):\n",
    "        i = int(i)\n",
    "        Pl2 = Pl2 + gamma(i)/gamma(i-2) * comb(l,i) * prod((l+i-1)/2-L) / gamma(l) * x**(i-2)\n",
    "        dPl2 = dPl2 + gamma(i)/gamma(i-2) * comb(l,i) * prod((l+i-1)/2-L) / gamma(l) * (i-2) * x**(i-3)\n",
    "        \n",
    "    dPl2 = 2**l*(-2*x)*Pl2/nP + 2**l*(1-x**2)*dPl2/nP\n",
    "    Pl2  = 2**l*(1-x**2)*Pl2/nP\n",
    "\n",
    "    Ql2  = 1/nQ * np.sqrt(np.pi)/2**(l+1) * gamma(l+3)/gamma(l+3/2) * (x**2-1)/x**(l+3) * hyp2f1((l+3)/2, (l+4)/2,l+3/2,1/x**2)\n",
    "    dQl2 = 1/nQ * np.sqrt(np.pi)/2**(l+1) * gamma(l+3)/gamma(l+3/2) * (2*x**(-2 - l)*hyp2f1((l+3)/2, (l+4)/2,l+3/2,1/x**2) +\\\n",
    "                                                        (-3 - l)*x**(-4 - l)*(-1 + x**2)*hyp2f1((l+3)/2, (l+4)/2,l+3/2,1/x**2) -\\\n",
    "                                                        (2*((l+3)/2)*((l+4)/2)*x**(-6 - l)*(-1 + x**2)\\\n",
    "                                                         *hyp2f1((l+3)/2+1, (l+4)/2+1,l+3/2+1,1/x**2)/(l+3/2)))\n",
    "    return Pl2,dPl2,Ql2,dQl2\n",
    "\n",
    "compute_legendre(0.2,3)\n"
   ]
  },
  {
   "cell_type": "code",
   "execution_count": 30,
   "id": "7f6fdfd0-fdef-418d-bfc1-10b6a2c94aeb",
   "metadata": {},
   "outputs": [],
   "source": [
    "leven, lodd = [], []\n",
    "dhfact = -1e-3\n",
    "ode_atol = 1e-6\n",
    "ode_rtol = 1e-9\n",
    "ode_method = 'DOP853'\n",
    "output = None\n",
    "\n",
    "def buildvars():\n",
    "    \"\"\"\n",
    "    List of varnames\n",
    "    \"\"\"\n",
    "    v = ['r','m','nu']\n",
    "    for l in leven:\n",
    "        v.append('H{}'.format(l))\n",
    "        v.append('dH{}'.format(l))\n",
    "    for l in lodd:\n",
    "        v.append('Psi{}'.format(l))\n",
    "        v.append('dPsi{}'.format(l))\n",
    "    return v\n",
    "var = buildvars()\n",
    "nvar = len(var)\n",
    "var = dict(zip(var,range(nvar)))\n",
    "ivar = {k: v for k, v in var.items()}\n",
    "\n",
    "def pert_even(ell,m,r,p,e,dedp,dnu_dr=[]):\n",
    "    \"\"\"\n",
    "    Eq.(27-29) of Damour & Nagar, Phys. Rev. D 80, 084035 (2009)\n",
    "\n",
    "    https://arxiv.org/abs/0906.0096\n",
    "\n",
    "    Note only C0 depends on ell: return an array of values C1, C0\n",
    "    \"\"\"\n",
    "    r2 = r**2\n",
    "    r3 = r * r2\n",
    "    div_r = 1.0/r\n",
    "    div_r2 = div_r**2\n",
    "    exp_lam = 1.0 / (1.0 - 2.0 * m * div_r ) # Eq. (18)\n",
    "    if not dnu_dr:\n",
    "        dnu2 = (2.0 * (m + 4.0 * np.pi * r3 * p) / (r * (r - 2.0 * m)))**2\n",
    "    else:\n",
    "        dnu2 = dnu_dr**2\n",
    "    C1 = 2.0/r + exp_lam * ( 2*m*div_r2 + 4*np.pi*r*(p-e) )\n",
    "    C0 = np.zeros(len(ell))\n",
    "    for l in ell:\n",
    "        Lam = l*(l+1)\n",
    "        C0[l] = -dnu2\n",
    "        C0[l] += exp_lam * ( -Lam*div_r2 + 4*np.pi*( 5*e + 9*p + (e + p) * dedp ) ) \n",
    "    return C1, C0\n",
    "\n",
    "def pert_odd(ell,m,r,p,e,dedp):\n",
    "    \"\"\"\n",
    "    returns C1, C0\n",
    "\n",
    "    Eq.(31) of Damour & Nagar, Phys. Rev. D 80, 084035 (2009)\n",
    "    \n",
    "    https://arxiv.org/abs/0906.0096\n",
    "\n",
    "    Note only C0 depends on ell: return an array of values\n",
    "    \"\"\"\n",
    "    r2 = r**2\n",
    "    r3 = r * r2\n",
    "    div_r = 1.0/r\n",
    "    div_r2 = div_r**2\n",
    "    div_r3 = div_r*div_r2\n",
    "    exp_lam = 1.0 / (1.0 - 2.0 * m * div_r ) # Eq. (18)\n",
    "    C1 = exp_lam * ( 2*m + 4*np.pi*r3*(p-e) ) * div_r2\n",
    "    C0 = np.zeros(len(ell))\n",
    "    for l in ell:\n",
    "        Lam = l*(l+1)\n",
    "        C0[l] = exp_lam*( -Lam*div_r2 + 6*m*div_r3 - 4*np.pi*(e-p))\n",
    "    return C1, C0\n",
    "\n",
    "def compute_mass_radius(y):\n",
    "    \"\"\"\n",
    "    Compute mass, radius, & compactness\n",
    "    \"\"\"\n",
    "    R = y[ivar['r']]\n",
    "    M = y[ivar['m']]\n",
    "    return M,R,M/R\n",
    "\n",
    "def tov_rhs(h,y):\n",
    "    \"\"\"\n",
    "    The equation to solve. taking [r, m, nu, H or Psi, dH or dPsi] as input and outputting their derivatives wrt h.\n",
    "\n",
    "    ODE r.h.s. for TOV equations with pseudo-enthalpy independent variable.\n",
    "    Implements Eqs. (5) and (6) of Lindblom, Astrophys. J. 398, 569 (1992).\n",
    "    Also uses Eqs. (7) and (8) [ibid] for inner boundary data, and\n",
    "    Eqs. (18), (27), (28) of Damour & Nagar, Phys. Rev. D 80, 084035 (2009)\n",
    "    for the metric perturbation used to obtain the Love number. \n",
    "    \"\"\"\n",
    "    dy = np.zeros_like(y)\n",
    "    # Unpack y\n",
    "    r = y[ivar['r']]\n",
    "    m = y[ivar['m']]\n",
    "    nu = y[ivar['nu']]\n",
    "    # EOS call\n",
    "    p = eos.Pressure_Of_PseudoEnthalpy(h)\n",
    "    e = eos.EnergyDensity_Of_PseudoEnthalpy(h)\n",
    "    dedp = eos.EnergyDensityDeriv_Of_Pressure(p)\n",
    "    # TOV\n",
    "    dr_dh = -r * (r - 2.0 * m) / (m + 4.0 * np.pi * r**3 * p) # Equation (6), Lindblom (1992)\n",
    "    dm_dh = - 4.0 * np.pi * r**3 * e * (r - 2*m) / (m + 4.0 * np.pi * r**3 * p) # Equation (5), Lindblom (1992)\n",
    "    dnu_dr =  2.0 * (m + 4.0 * np.pi * r**3 * p) / (r * (r - 2.0 * m)) # Equation (22), Damour & Nagar (2009)\n",
    "    dy[ivar['r']] = dr_dh\n",
    "    dy[ivar['m']] = dm_dh\n",
    "    dy[ivar['nu']] = dnu_dr * dr_dh        \n",
    "    # Even perturbations\n",
    "    C0,C1 = pert_even(leven,m,r,p,e,dedp,dnu_dr)\n",
    "    for l in leven:\n",
    "        H = y[ivar['H{}'.format(l)]]\n",
    "        dH = y[ivar['dH{}'.format(l)]]\n",
    "        dH_dh = dH * dr_dh\n",
    "        ddH_dh = -(C0[l] * H + C1 * dH) * dr_dh\n",
    "        dy[ivar['H{}'.format(l)]] = dH_dh\n",
    "        dy[ivar['dH{}'.format(l)]] = ddH_dh\n",
    "    # Odd perturbations\n",
    "    C0,C1 = pert_odd(leven,m,r,p,e,dedp)\n",
    "    for l in lodd:\n",
    "        Psi = y[ivar['Psi{}'.format(l)]]\n",
    "        dPsi = y[ivar['dPsi{}'.format(l)]]\n",
    "        dPsi_dh = dH * dr_dh\n",
    "        ddPsi_dh = -(C0[l] * Psi + C1 * dPsi) * dr_dh\n",
    "        dy[ivar['Psi{}'.format(l)]] = dPsi_dh\n",
    "        dy[ivar['dPsi{}'.format(l)]] = ddPsi_dh    \n",
    "    return dy\n",
    "\n",
    "def initial_data(pc,dh_fact,verbose=False):\n",
    "    \"\"\"\n",
    "    returns [r0, m0, nu0 = 0.0, H or Psi, dH or dPsi] and h0, h1\n",
    "\n",
    "    Set initial data for the solution of TOV equations using the pseudo-enthalpy formalism introduced in:\n",
    "    Lindblom (1992) \"Determining the Nuclear Equation of State from Neutron-Star Masses and Radii\", Astrophys. J. 398 569.\n",
    "    * input the central pressure\n",
    "    \"\"\"\n",
    "    y = np.zeros(nvar)\n",
    "    # Central values \n",
    "    ec = eos.EnergyDensity_Of_Pressure(pc)\n",
    "    hc = eos.PseudoEnthalpy_Of_Pressure(pc)\n",
    "    dedp_c = eos.EnergyDensityDeriv_Of_Pressure(pc)\n",
    "    dhdp_c = 1.0 / (ec + pc)\n",
    "    dedh_c = dedp_c / dhdp_c\n",
    "    dh = dh_fact * hc\n",
    "    h0 = hc + dh\n",
    "    h1 = 0.0 - dh\n",
    "    r0 = np.sqrt(-3.0 * dh / (2.0 * np.pi * (ec + 3.0 * pc))) * (1.0 + 0.25 * dh * (ec - 3.0 * pc  - 0.6 * dedh_c) / (ec + 3.0 * pc))\n",
    "    m0 = (4.0 * np.pi * r0**3 * ec / 3.0) * (1.0 - 0.6 * dh * dedh_c / ec) # Equation (8), Lindblom (1992)\n",
    "    # Series expansion for the initial core \n",
    "    y[ivar['r']] = r0\n",
    "    y[ivar['m']] = m0\n",
    "    y[ivar['nu']] = 0.0\n",
    "    #  Initial data for the ell-perturbation\n",
    "    a0 = 1.0\n",
    "    for l in leven:\n",
    "        y[ivar['H{}'.format(l)]] = a0 * r0**l\n",
    "        y[ivar['dH{}'.format(l)]] = a0 * l * r0**(l-1)\n",
    "    for l in leven:\n",
    "        y[ivar['Psi{}'.format(l)]] = a0 * r0**(l+1)\n",
    "        y[ivar['dPsi{}'.format(l)]] = a0 * (l+1) * r0**l\n",
    "    if verbose:\n",
    "        print(\"pc = {:.8e} hc = {:.8e} dh = {:.8e} h0  = {:.8e}\".format(pc,hc,dh,h0))\n",
    "    return y, h0, h1\n",
    "\n",
    "\n",
    "\n",
    "# Even Love number k2 (for testing purposes only)\n",
    "#yyl = R*y[self.ivar['dH2']]/y[self.ivar['H2']]\n",
    "#k2 = self.__compute_Love_even_ell2(self, self.C,yyl)\n",
    "# Even Love numbers\n",
    "# k = {}\n",
    "# for l in leven:\n",
    "#     yyl = R*y[ivar['dH{}'.format(l)]]/y[self.ivar['H{}'.format(l)]]\n",
    "#     k[l] = compute_Love_even(l,C,yyl)\n",
    "# # Odd Love numbers\n",
    "# j = {}\n",
    "# for l in lodd:\n",
    "#    yyl = R*y[ivar['dPsi{}'.format(l)]]/y[ivar['Psi{}'.format(l)]]\n",
    "#    j[l] = compute_Love_odd(l,C,yyl)\n",
    "# # Dump output\n",
    "# # if output:\n",
    "# #     output_solution(output,sol)\n",
    "# M,R,C,k,j,sol"
   ]
  },
  {
   "cell_type": "code",
   "execution_count": 98,
   "id": "57f24618-c1fd-4b7f-b2d4-46e80107978e",
   "metadata": {},
   "outputs": [
    {
     "name": "stderr",
     "output_type": "stream",
     "text": [
      "/var/folders/0n/6pjm67v12rdc89pwmztrh7100000gn/T/ipykernel_18696/2876833342.py:14: RuntimeWarning: invalid value encountered in log\n",
      "  sol.y[ivar['nu'],:] += log(1.0-(2.*M)/R) - sol.y[ivar['nu'],-1]\n"
     ]
    }
   ],
   "source": [
    "pc = 1e-9\n",
    "y, h0, h1 = initial_data(pc, dh_fact=dh_fact)\n",
    "# Integrate\n",
    "sol = solve_ivp(tov_rhs, [h0, h1], y)\n",
    "# print(1)\n",
    "# Take one final Euler step to get to su\n",
    "y = sol.y[:,-1]\n",
    "dy = tov_rhs(sol.t[-1],y)\n",
    "y[:] -= dy[:] * h1\n",
    "y = np.append(sol.y,y)\n",
    "# Mass, Radius & Compactness\n",
    "M,R,C = compute_mass_radius(y)\n",
    "# Match to Schwarzschild exterior\n",
    "sol.y[ivar['nu'],:] += log(1.0-(2.*M)/R) - sol.y[ivar['nu'],-1]"
   ]
  },
  {
   "cell_type": "code",
   "execution_count": 52,
   "id": "2112097e-b894-495f-ab11-c2da2cbf49a9",
   "metadata": {},
   "outputs": [
    {
     "data": {
      "text/plain": [
       "4.526316723026585e-10"
      ]
     },
     "execution_count": 52,
     "metadata": {},
     "output_type": "execute_result"
    }
   ],
   "source": [
    "pc"
   ]
  },
  {
   "cell_type": "code",
   "execution_count": 80,
   "id": "7d547446-59da-47d3-87ac-017498d2cea8",
   "metadata": {},
   "outputs": [
    {
     "data": {
      "text/plain": [
       "[<matplotlib.lines.Line2D at 0x30f227ef0>]"
      ]
     },
     "execution_count": 80,
     "metadata": {},
     "output_type": "execute_result"
    },
    {
     "data": {
      "image/png": "[encoded data removed]",
      "text/plain": [
       "<Figure size 640x480 with 1 Axes>"
      ]
     },
     "metadata": {},
     "output_type": "display_data"
    }
   ],
   "source": [
    "plt.plot(sol.y[ivar['r'],:],sol.y[ivar['nu'],:])\n",
    "# plt.xlim(0,10000)"
   ]
  },
  {
   "cell_type": "code",
   "execution_count": 82,
   "id": "f111fb03-5b17-4f5c-be40-911e2530cf21",
   "metadata": {},
   "outputs": [
    {
     "data": {
      "text/plain": [
       "[<matplotlib.lines.Line2D at 0x30f2c1d60>]"
      ]
     },
     "execution_count": 82,
     "metadata": {},
     "output_type": "execute_result"
    },
    {
     "data": {
      "image/png": "[encoded data removed]",
      "text/plain": [
       "<Figure size 640x480 with 1 Axes>"
      ]
     },
     "metadata": {},
     "output_type": "display_data"
    }
   ],
   "source": [
    "plt.plot(sol.y[ivar['r'],:],sol.y[ivar['m'],:])\n",
    "# plt.xlim(0,1e6)"
   ]
  },
  {
   "cell_type": "code",
   "execution_count": 94,
   "id": "a5948659-9177-46a6-ad0d-153619ced588",
   "metadata": {},
   "outputs": [
    {
     "data": {
      "text/plain": [
       "1628714586851232.8"
      ]
     },
     "execution_count": 94,
     "metadata": {},
     "output_type": "execute_result"
    }
   ],
   "source": [
    "M*uts.geom_to_si('mass') / 2e30"
   ]
  },
  {
   "cell_type": "code",
   "execution_count": 96,
   "id": "e49023cf-ccd2-415f-a40d-c6129f927ee3",
   "metadata": {},
   "outputs": [
    {
     "data": {
      "text/plain": [
       "5.244738193907691e+20"
      ]
     },
     "execution_count": 96,
     "metadata": {},
     "output_type": "execute_result"
    }
   ],
   "source": [
    "R*uts.geom_to_si('radius')/1e3"
   ]
  },
  {
   "cell_type": "code",
   "execution_count": 36,
   "id": "ce8a5f56-9798-4fd9-87c5-7443f95b82e0",
   "metadata": {},
   "outputs": [
    {
     "data": {
      "text/plain": [
       "1.2832667596864713"
      ]
     },
     "execution_count": 36,
     "metadata": {},
     "output_type": "execute_result"
    }
   ],
   "source": [
    "C"
   ]
  },
  {
   "cell_type": "code",
   "execution_count": 60,
   "id": "452a09f5-add1-4ecf-9314-65bb5b7d28db",
   "metadata": {},
   "outputs": [
    {
     "data": {
      "text/plain": [
       "(61.30781181150889, 6.130781187281671e-08)"
      ]
     },
     "execution_count": 60,
     "metadata": {},
     "output_type": "execute_result"
    }
   ],
   "source": [
    "h0,h1"
   ]
  },
  {
   "cell_type": "code",
   "execution_count": 90,
   "id": "b72151db-76d6-4fa7-aaa4-8dabfc435f7c",
   "metadata": {},
   "outputs": [
    {
     "data": {
      "text/plain": [
       "\u001b[0;31mSignature:\u001b[0m \u001b[0mtov_rhs\u001b[0m\u001b[0;34m(\u001b[0m\u001b[0mh\u001b[0m\u001b[0;34m,\u001b[0m \u001b[0my\u001b[0m\u001b[0;34m)\u001b[0m\u001b[0;34m\u001b[0m\u001b[0;34m\u001b[0m\u001b[0m\n",
       "\u001b[0;31mDocstring:\u001b[0m\n",
       "The equation to solve. taking [r, m, nu, H or Psi, dH or dPsi] as input and outputting their derivatives wrt h.\n",
       "\n",
       "ODE r.h.s. for TOV equations with pseudo-enthalpy independent variable.\n",
       "Implements Eqs. (5) and (6) of Lindblom, Astrophys. J. 398, 569 (1992).\n",
       "Also uses Eqs. (7) and (8) [ibid] for inner boundary data, and\n",
       "Eqs. (18), (27), (28) of Damour & Nagar, Phys. Rev. D 80, 084035 (2009)\n",
       "for the metric perturbation used to obtain the Love number. \n",
       "\u001b[0;31mFile:\u001b[0m      /var/folders/0n/6pjm67v12rdc89pwmztrh7100000gn/T/ipykernel_17791/951309414.py\n",
       "\u001b[0;31mType:\u001b[0m      function"
      ]
     },
     "metadata": {},
     "output_type": "display_data"
    }
   ],
   "source": [
    "tov_rhs?"
   ]
  },
  {
   "cell_type": "code",
   "execution_count": null,
   "id": "f6a35c5a-645f-4495-9fe2-a19bff5e92ee",
   "metadata": {},
   "outputs": [],
   "source": []
  }
 ],
 "metadata": {
  "kernelspec": {
   "display_name": "Python [conda env:base] *",
   "language": "python",
   "name": "conda-base-py"
  },
  "language_info": {
   "codemirror_mode": {
    "name": "ipython",
    "version": 3
   },
   "file_extension": ".py",
   "mimetype": "text/x-python",
   "name": "python",
   "nbconvert_exporter": "python",
   "pygments_lexer": "ipython3",
   "version": "3.12.7"
  }
 },
 "nbformat": 4,
 "nbformat_minor": 5
}
